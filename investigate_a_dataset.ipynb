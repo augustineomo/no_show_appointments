{
 "cells": [
  {
   "cell_type": "markdown",
   "id": "cdb9b029",
   "metadata": {},
   "source": [
    "\n",
    "# Project: Investigate a Dataset - [Missed Medical Appointments]\n",
    "\n",
    "## Table of Contents\n",
    "<ul>\n",
    "<li><a href=\"#intro\">Introduction</a></li>\n",
    "<li><a href=\"#wrangling\">Data Wrangling</a></li>\n",
    "<li><a href=\"#eda\">Exploratory Data Analysis</a></li>\n",
    "<li><a href=\"#conclusions\">Conclusions</a></li>\n",
    "</ul>"
   ]
  },
  {
   "cell_type": "markdown",
   "id": "36b8894e",
   "metadata": {},
   "source": [
    "<a id='intro'></a>\n",
    "## Introduction\n",
    "\n",
    "### Dataset Description \n",
    "\n",
    "This is a database of 110, 527 medical appointments in Brazil, with emphasis on whether or not patients show up for their appointment. Characteristics of patients, as exactly contained in this dataset, are explained below;\n",
    "\n",
    "- PatientId: Patient's identification number.\n",
    "- AppointmentID: Appointment identification number.\n",
    "- Gender: \"M\" if male, and \"F\" if female.\n",
    "- ScheduledDay: The day appointment was booked.\n",
    "- AppointmentDay: Actual day of check-up.\n",
    "- Age: Age of patient.\n",
    "- Neighbourhood: Indicates the location of hospital.\n",
    "- Scholarship: \"1\" if enrolled in Brasilian welfare program, and \"0\" if not enrolled.\n",
    "- Hipertension: \"1\" if hypertensive, and \"0\" if not hypertensive.\n",
    "- Diabetes: \"1\" if diabetic, and \"0\" if not diabetic.\n",
    "- Alcoholism: \"1\" if alcoholic, and \"0\" if not alcoholic.\n",
    "- Handcap: \"1 to 4\" if handicapped, and \"0\" if not handicapped.\n",
    "- SMS_received: \"1\" if sent an SMS, and \"0\" if not sent.\n",
    "- No-show: \"No\" if the patient showed up for the appointment, and \"Yes\" if they did not show up.\n",
    "\n",
    "\n",
    "\n",
    "### Question(s) for Analysis\n",
    "Although it is logical to investigate if patients with a specific medical condition generally ignore appointments, this study does not recognize medical conditions as factors affecting response. The 'patient_id' and 'appointment_id entries are also considered inconsequential here. Hence, the questions to be answered in this study are:\n",
    "1. What is the general response of patients to scheduled appointments?\n",
    "2. How does gender affect response to appointments?\n",
    "3. Is there a preferred day of the week by patients for showing up?\n",
    "4. What is the age distribution of patients?\n",
    "5. Which neighbourhoods have the most and least schedules?\n",
    "6. Does scholarship encourage response?\n",
    "7. Will SMS facilitate response?"
   ]
  },
  {
   "cell_type": "code",
   "execution_count": 139,
   "id": "14a007f1",
   "metadata": {},
   "outputs": [],
   "source": [
    "# import all packages and set plots to be embedded inline\n",
    "import numpy as np\n",
    "import pandas as pd\n",
    "import matplotlib.pyplot as plt\n",
    "%matplotlib inline\n",
    "import seaborn as sb\n",
    "sb.set_style('dark')"
   ]
  },
  {
   "cell_type": "markdown",
   "id": "fadb5ba9",
   "metadata": {},
   "source": [
    "<a id='wrangling'></a>\n",
    "## Data Wrangling\n",
    "\n",
    "\n",
    "### General Properties\n"
   ]
  },
  {
   "cell_type": "code",
   "execution_count": 140,
   "id": "ae31f1f9",
   "metadata": {
    "scrolled": true
   },
   "outputs": [
    {
     "data": {
      "text/html": [
       "<div>\n",
       "<style scoped>\n",
       "    .dataframe tbody tr th:only-of-type {\n",
       "        vertical-align: middle;\n",
       "    }\n",
       "\n",
       "    .dataframe tbody tr th {\n",
       "        vertical-align: top;\n",
       "    }\n",
       "\n",
       "    .dataframe thead th {\n",
       "        text-align: right;\n",
       "    }\n",
       "</style>\n",
       "<table border=\"1\" class=\"dataframe\">\n",
       "  <thead>\n",
       "    <tr style=\"text-align: right;\">\n",
       "      <th></th>\n",
       "      <th>PatientId</th>\n",
       "      <th>AppointmentID</th>\n",
       "      <th>Gender</th>\n",
       "      <th>ScheduledDay</th>\n",
       "      <th>AppointmentDay</th>\n",
       "      <th>Age</th>\n",
       "      <th>Neighbourhood</th>\n",
       "      <th>Scholarship</th>\n",
       "      <th>Hipertension</th>\n",
       "      <th>Diabetes</th>\n",
       "      <th>Alcoholism</th>\n",
       "      <th>Handcap</th>\n",
       "      <th>SMS_received</th>\n",
       "      <th>No-show</th>\n",
       "    </tr>\n",
       "  </thead>\n",
       "  <tbody>\n",
       "    <tr>\n",
       "      <th>0</th>\n",
       "      <td>2.987250e+13</td>\n",
       "      <td>5642903</td>\n",
       "      <td>F</td>\n",
       "      <td>2016-04-29T18:38:08Z</td>\n",
       "      <td>2016-04-29T00:00:00Z</td>\n",
       "      <td>62</td>\n",
       "      <td>JARDIM DA PENHA</td>\n",
       "      <td>0</td>\n",
       "      <td>1</td>\n",
       "      <td>0</td>\n",
       "      <td>0</td>\n",
       "      <td>0</td>\n",
       "      <td>0</td>\n",
       "      <td>No</td>\n",
       "    </tr>\n",
       "    <tr>\n",
       "      <th>1</th>\n",
       "      <td>5.589978e+14</td>\n",
       "      <td>5642503</td>\n",
       "      <td>M</td>\n",
       "      <td>2016-04-29T16:08:27Z</td>\n",
       "      <td>2016-04-29T00:00:00Z</td>\n",
       "      <td>56</td>\n",
       "      <td>JARDIM DA PENHA</td>\n",
       "      <td>0</td>\n",
       "      <td>0</td>\n",
       "      <td>0</td>\n",
       "      <td>0</td>\n",
       "      <td>0</td>\n",
       "      <td>0</td>\n",
       "      <td>No</td>\n",
       "    </tr>\n",
       "    <tr>\n",
       "      <th>2</th>\n",
       "      <td>4.262962e+12</td>\n",
       "      <td>5642549</td>\n",
       "      <td>F</td>\n",
       "      <td>2016-04-29T16:19:04Z</td>\n",
       "      <td>2016-04-29T00:00:00Z</td>\n",
       "      <td>62</td>\n",
       "      <td>MATA DA PRAIA</td>\n",
       "      <td>0</td>\n",
       "      <td>0</td>\n",
       "      <td>0</td>\n",
       "      <td>0</td>\n",
       "      <td>0</td>\n",
       "      <td>0</td>\n",
       "      <td>No</td>\n",
       "    </tr>\n",
       "    <tr>\n",
       "      <th>3</th>\n",
       "      <td>8.679512e+11</td>\n",
       "      <td>5642828</td>\n",
       "      <td>F</td>\n",
       "      <td>2016-04-29T17:29:31Z</td>\n",
       "      <td>2016-04-29T00:00:00Z</td>\n",
       "      <td>8</td>\n",
       "      <td>PONTAL DE CAMBURI</td>\n",
       "      <td>0</td>\n",
       "      <td>0</td>\n",
       "      <td>0</td>\n",
       "      <td>0</td>\n",
       "      <td>0</td>\n",
       "      <td>0</td>\n",
       "      <td>No</td>\n",
       "    </tr>\n",
       "    <tr>\n",
       "      <th>4</th>\n",
       "      <td>8.841186e+12</td>\n",
       "      <td>5642494</td>\n",
       "      <td>F</td>\n",
       "      <td>2016-04-29T16:07:23Z</td>\n",
       "      <td>2016-04-29T00:00:00Z</td>\n",
       "      <td>56</td>\n",
       "      <td>JARDIM DA PENHA</td>\n",
       "      <td>0</td>\n",
       "      <td>1</td>\n",
       "      <td>1</td>\n",
       "      <td>0</td>\n",
       "      <td>0</td>\n",
       "      <td>0</td>\n",
       "      <td>No</td>\n",
       "    </tr>\n",
       "  </tbody>\n",
       "</table>\n",
       "</div>"
      ],
      "text/plain": [
       "      PatientId  AppointmentID Gender          ScheduledDay  \\\n",
       "0  2.987250e+13        5642903      F  2016-04-29T18:38:08Z   \n",
       "1  5.589978e+14        5642503      M  2016-04-29T16:08:27Z   \n",
       "2  4.262962e+12        5642549      F  2016-04-29T16:19:04Z   \n",
       "3  8.679512e+11        5642828      F  2016-04-29T17:29:31Z   \n",
       "4  8.841186e+12        5642494      F  2016-04-29T16:07:23Z   \n",
       "\n",
       "         AppointmentDay  Age      Neighbourhood  Scholarship  Hipertension  \\\n",
       "0  2016-04-29T00:00:00Z   62    JARDIM DA PENHA            0             1   \n",
       "1  2016-04-29T00:00:00Z   56    JARDIM DA PENHA            0             0   \n",
       "2  2016-04-29T00:00:00Z   62      MATA DA PRAIA            0             0   \n",
       "3  2016-04-29T00:00:00Z    8  PONTAL DE CAMBURI            0             0   \n",
       "4  2016-04-29T00:00:00Z   56    JARDIM DA PENHA            0             1   \n",
       "\n",
       "   Diabetes  Alcoholism  Handcap  SMS_received No-show  \n",
       "0         0           0        0             0      No  \n",
       "1         0           0        0             0      No  \n",
       "2         0           0        0             0      No  \n",
       "3         0           0        0             0      No  \n",
       "4         1           0        0             0      No  "
      ]
     },
     "execution_count": 140,
     "metadata": {},
     "output_type": "execute_result"
    }
   ],
   "source": [
    "# load in the dataset into a pandas dataframe\n",
    "df = pd.read_csv('noshowappointments-kagglev2-may-2016.csv')\n",
    "df.head()"
   ]
  },
  {
   "cell_type": "markdown",
   "id": "d32c48ce",
   "metadata": {},
   "source": [
    "As observed from the table above;\n",
    "- All variable names are not in the recommended Python standard for improved readability, and some are misspelt.\n",
    "- There are 14 variables, with no_show being the dependent variable.\n",
    "- The 'AppointmentDay' and 'ScheduledDay' entries have inconsistencies in formats."
   ]
  },
  {
   "cell_type": "markdown",
   "id": "dcebcb0b",
   "metadata": {},
   "source": [
    "### Data Cleaning\n"
   ]
  },
  {
   "cell_type": "markdown",
   "id": "4c9acfe9",
   "metadata": {},
   "source": [
    "Renaming columns by correcting misspelt variable names, replacing uppercase characters with lower ones, removing hyphens, and then introducing underscores to improve readability. \n",
    "Furthermore, entry for \"No-show\" is \"No\" if the patient showed up for the appointment, and \"Yes\" if they did not show up. This is somewhat confusing. For clarity, \"No-show\" is renamed as \"absent\". "
   ]
  },
  {
   "cell_type": "code",
   "execution_count": 141,
   "id": "7d40c87e",
   "metadata": {},
   "outputs": [],
   "source": [
    "# rename misspelt variable names\n",
    "df.rename(columns = {'PatientId': 'patient_id', 'AppointmentID': 'appointment_id', 'Gender': 'gender', 'ScheduledDay': 'scheduled_day', 'AppointmentDay': 'appointment_day', 'Age': 'age', 'Neighbourhood': 'neighbourhood', 'Scholarship': 'scholarship', 'Hipertension': 'hypertension', 'Diabetes': 'diabetes', 'Alcoholism': 'alcoholism', 'Handcap': 'handicap', 'SMS_received': 'sms_received', 'No-show': 'absent'}, inplace = True)"
   ]
  },
  {
   "cell_type": "markdown",
   "id": "525c1f58",
   "metadata": {},
   "source": [
    "#### Confirming rename action."
   ]
  },
  {
   "cell_type": "code",
   "execution_count": 142,
   "id": "0e4bb572",
   "metadata": {
    "scrolled": true
   },
   "outputs": [
    {
     "data": {
      "text/html": [
       "<div>\n",
       "<style scoped>\n",
       "    .dataframe tbody tr th:only-of-type {\n",
       "        vertical-align: middle;\n",
       "    }\n",
       "\n",
       "    .dataframe tbody tr th {\n",
       "        vertical-align: top;\n",
       "    }\n",
       "\n",
       "    .dataframe thead th {\n",
       "        text-align: right;\n",
       "    }\n",
       "</style>\n",
       "<table border=\"1\" class=\"dataframe\">\n",
       "  <thead>\n",
       "    <tr style=\"text-align: right;\">\n",
       "      <th></th>\n",
       "      <th>patient_id</th>\n",
       "      <th>appointment_id</th>\n",
       "      <th>gender</th>\n",
       "      <th>scheduled_day</th>\n",
       "      <th>appointment_day</th>\n",
       "      <th>age</th>\n",
       "      <th>neighbourhood</th>\n",
       "      <th>scholarship</th>\n",
       "      <th>hypertension</th>\n",
       "      <th>diabetes</th>\n",
       "      <th>alcoholism</th>\n",
       "      <th>handicap</th>\n",
       "      <th>sms_received</th>\n",
       "      <th>absent</th>\n",
       "    </tr>\n",
       "  </thead>\n",
       "  <tbody>\n",
       "    <tr>\n",
       "      <th>0</th>\n",
       "      <td>2.987250e+13</td>\n",
       "      <td>5642903</td>\n",
       "      <td>F</td>\n",
       "      <td>2016-04-29T18:38:08Z</td>\n",
       "      <td>2016-04-29T00:00:00Z</td>\n",
       "      <td>62</td>\n",
       "      <td>JARDIM DA PENHA</td>\n",
       "      <td>0</td>\n",
       "      <td>1</td>\n",
       "      <td>0</td>\n",
       "      <td>0</td>\n",
       "      <td>0</td>\n",
       "      <td>0</td>\n",
       "      <td>No</td>\n",
       "    </tr>\n",
       "  </tbody>\n",
       "</table>\n",
       "</div>"
      ],
      "text/plain": [
       "     patient_id  appointment_id gender         scheduled_day  \\\n",
       "0  2.987250e+13         5642903      F  2016-04-29T18:38:08Z   \n",
       "\n",
       "        appointment_day  age    neighbourhood  scholarship  hypertension  \\\n",
       "0  2016-04-29T00:00:00Z   62  JARDIM DA PENHA            0             1   \n",
       "\n",
       "   diabetes  alcoholism  handicap  sms_received absent  \n",
       "0         0           0         0             0     No  "
      ]
     },
     "execution_count": 142,
     "metadata": {},
     "output_type": "execute_result"
    }
   ],
   "source": [
    "# confirm rename action success\n",
    "df.head(1)"
   ]
  },
  {
   "cell_type": "markdown",
   "id": "019f338a",
   "metadata": {},
   "source": [
    "#### What are the data types?"
   ]
  },
  {
   "cell_type": "code",
   "execution_count": 143,
   "id": "dc93e8f9",
   "metadata": {},
   "outputs": [
    {
     "name": "stdout",
     "output_type": "stream",
     "text": [
      "<class 'pandas.core.frame.DataFrame'>\n",
      "RangeIndex: 110527 entries, 0 to 110526\n",
      "Data columns (total 14 columns):\n",
      " #   Column           Non-Null Count   Dtype  \n",
      "---  ------           --------------   -----  \n",
      " 0   patient_id       110527 non-null  float64\n",
      " 1   appointment_id   110527 non-null  int64  \n",
      " 2   gender           110527 non-null  object \n",
      " 3   scheduled_day    110527 non-null  object \n",
      " 4   appointment_day  110527 non-null  object \n",
      " 5   age              110527 non-null  int64  \n",
      " 6   neighbourhood    110527 non-null  object \n",
      " 7   scholarship      110527 non-null  int64  \n",
      " 8   hypertension     110527 non-null  int64  \n",
      " 9   diabetes         110527 non-null  int64  \n",
      " 10  alcoholism       110527 non-null  int64  \n",
      " 11  handicap         110527 non-null  int64  \n",
      " 12  sms_received     110527 non-null  int64  \n",
      " 13  absent           110527 non-null  object \n",
      "dtypes: float64(1), int64(8), object(5)\n",
      "memory usage: 11.8+ MB\n"
     ]
    }
   ],
   "source": [
    "df.info()"
   ]
  },
  {
   "cell_type": "markdown",
   "id": "17b4aad9",
   "metadata": {},
   "source": [
    "Each column having 110,527 entries¸ implies the absence of missing values.\n",
    "\"AppointmentDay\" and \"ScheduledDay\" entries ought to be datetime datatypes. \n",
    "\"PatientId\" entries ought to be integer datatypes."
   ]
  },
  {
   "cell_type": "markdown",
   "id": "ef8a2f5d",
   "metadata": {},
   "source": [
    "#### Are there duplicated rows?"
   ]
  },
  {
   "cell_type": "code",
   "execution_count": 144,
   "id": "2db78abe",
   "metadata": {},
   "outputs": [
    {
     "data": {
      "text/plain": [
       "0"
      ]
     },
     "execution_count": 144,
     "metadata": {},
     "output_type": "execute_result"
    }
   ],
   "source": [
    "sum(df.duplicated())"
   ]
  },
  {
   "cell_type": "markdown",
   "id": "debbdf19",
   "metadata": {},
   "source": [
    "#### Are there null values?"
   ]
  },
  {
   "cell_type": "code",
   "execution_count": 145,
   "id": "40bb91e6",
   "metadata": {},
   "outputs": [
    {
     "data": {
      "text/plain": [
       "patient_id         0\n",
       "appointment_id     0\n",
       "gender             0\n",
       "scheduled_day      0\n",
       "appointment_day    0\n",
       "age                0\n",
       "neighbourhood      0\n",
       "scholarship        0\n",
       "hypertension       0\n",
       "diabetes           0\n",
       "alcoholism         0\n",
       "handicap           0\n",
       "sms_received       0\n",
       "absent             0\n",
       "dtype: int64"
      ]
     },
     "execution_count": 145,
     "metadata": {},
     "output_type": "execute_result"
    }
   ],
   "source": [
    "df.isna().sum()"
   ]
  },
  {
   "cell_type": "markdown",
   "id": "e46cb1bc",
   "metadata": {},
   "source": [
    "#### How many unique entries are present?"
   ]
  },
  {
   "cell_type": "code",
   "execution_count": 146,
   "id": "99f604f4",
   "metadata": {},
   "outputs": [
    {
     "data": {
      "text/plain": [
       "patient_id          62299\n",
       "appointment_id     110527\n",
       "gender                  2\n",
       "scheduled_day      103549\n",
       "appointment_day        27\n",
       "age                   104\n",
       "neighbourhood          81\n",
       "scholarship             2\n",
       "hypertension            2\n",
       "diabetes                2\n",
       "alcoholism              2\n",
       "handicap                5\n",
       "sms_received            2\n",
       "absent                  2\n",
       "dtype: int64"
      ]
     },
     "execution_count": 146,
     "metadata": {},
     "output_type": "execute_result"
    }
   ],
   "source": [
    "df.nunique()"
   ]
  },
  {
   "cell_type": "markdown",
   "id": "1e88541c",
   "metadata": {},
   "source": [
    "62, 299 patients with 110, 527 appointments indicates that some patients were scheduled for more than one appointment.\n",
    "103, 549 schedule days with just 27 appointment days indicates that each appointment day was scheduled several times."
   ]
  },
  {
   "cell_type": "markdown",
   "id": "80663442",
   "metadata": {},
   "source": [
    "As earlier stated, this study considers the \"patient_id\", \"appointment_id\", \"hypertension\", \"diabetes\", \"alcoholism\", and \"handicap\" entries as inconsequential to the appointment response, and hence are to be dropped."
   ]
  },
  {
   "cell_type": "code",
   "execution_count": 147,
   "id": "2f2a73d3",
   "metadata": {},
   "outputs": [],
   "source": [
    "df.drop(['patient_id', 'appointment_id', 'hypertension', 'diabetes', 'alcoholism', 'handicap'], axis=1, inplace=True)"
   ]
  },
  {
   "cell_type": "markdown",
   "id": "4df47387",
   "metadata": {},
   "source": [
    "#### Confirming drop action."
   ]
  },
  {
   "cell_type": "code",
   "execution_count": 148,
   "id": "05ec77d0",
   "metadata": {
    "scrolled": false
   },
   "outputs": [
    {
     "data": {
      "text/html": [
       "<div>\n",
       "<style scoped>\n",
       "    .dataframe tbody tr th:only-of-type {\n",
       "        vertical-align: middle;\n",
       "    }\n",
       "\n",
       "    .dataframe tbody tr th {\n",
       "        vertical-align: top;\n",
       "    }\n",
       "\n",
       "    .dataframe thead th {\n",
       "        text-align: right;\n",
       "    }\n",
       "</style>\n",
       "<table border=\"1\" class=\"dataframe\">\n",
       "  <thead>\n",
       "    <tr style=\"text-align: right;\">\n",
       "      <th></th>\n",
       "      <th>gender</th>\n",
       "      <th>scheduled_day</th>\n",
       "      <th>appointment_day</th>\n",
       "      <th>age</th>\n",
       "      <th>neighbourhood</th>\n",
       "      <th>scholarship</th>\n",
       "      <th>sms_received</th>\n",
       "      <th>absent</th>\n",
       "    </tr>\n",
       "  </thead>\n",
       "  <tbody>\n",
       "    <tr>\n",
       "      <th>0</th>\n",
       "      <td>F</td>\n",
       "      <td>2016-04-29T18:38:08Z</td>\n",
       "      <td>2016-04-29T00:00:00Z</td>\n",
       "      <td>62</td>\n",
       "      <td>JARDIM DA PENHA</td>\n",
       "      <td>0</td>\n",
       "      <td>0</td>\n",
       "      <td>No</td>\n",
       "    </tr>\n",
       "  </tbody>\n",
       "</table>\n",
       "</div>"
      ],
      "text/plain": [
       "  gender         scheduled_day       appointment_day  age    neighbourhood  \\\n",
       "0      F  2016-04-29T18:38:08Z  2016-04-29T00:00:00Z   62  JARDIM DA PENHA   \n",
       "\n",
       "   scholarship  sms_received absent  \n",
       "0            0             0     No  "
      ]
     },
     "execution_count": 148,
     "metadata": {},
     "output_type": "execute_result"
    }
   ],
   "source": [
    "df.head(1)"
   ]
  },
  {
   "cell_type": "markdown",
   "id": "031da883",
   "metadata": {},
   "source": [
    "#### Converting all 'scheduled_day' and 'appointment_day' entries to datetime data types."
   ]
  },
  {
   "cell_type": "code",
   "execution_count": 149,
   "id": "4834fd43",
   "metadata": {},
   "outputs": [],
   "source": [
    "df['scheduled_day'] = pd.to_datetime(df['scheduled_day'])"
   ]
  },
  {
   "cell_type": "code",
   "execution_count": 150,
   "id": "27819dd7",
   "metadata": {},
   "outputs": [],
   "source": [
    "df['appointment_day'] = pd.to_datetime(df['appointment_day'])\n"
   ]
  },
  {
   "cell_type": "markdown",
   "id": "04c22e37",
   "metadata": {},
   "source": [
    "#### Confirming the conversions."
   ]
  },
  {
   "cell_type": "code",
   "execution_count": 151,
   "id": "8d2ede03",
   "metadata": {},
   "outputs": [
    {
     "name": "stdout",
     "output_type": "stream",
     "text": [
      "<class 'pandas.core.frame.DataFrame'>\n",
      "RangeIndex: 110527 entries, 0 to 110526\n",
      "Data columns (total 8 columns):\n",
      " #   Column           Non-Null Count   Dtype              \n",
      "---  ------           --------------   -----              \n",
      " 0   gender           110527 non-null  object             \n",
      " 1   scheduled_day    110527 non-null  datetime64[ns, UTC]\n",
      " 2   appointment_day  110527 non-null  datetime64[ns, UTC]\n",
      " 3   age              110527 non-null  int64              \n",
      " 4   neighbourhood    110527 non-null  object             \n",
      " 5   scholarship      110527 non-null  int64              \n",
      " 6   sms_received     110527 non-null  int64              \n",
      " 7   absent           110527 non-null  object             \n",
      "dtypes: datetime64[ns, UTC](2), int64(3), object(3)\n",
      "memory usage: 6.7+ MB\n"
     ]
    }
   ],
   "source": [
    "df.info()"
   ]
  },
  {
   "cell_type": "markdown",
   "id": "3da846f2",
   "metadata": {},
   "source": [
    "#### Checking the DataFrame description."
   ]
  },
  {
   "cell_type": "code",
   "execution_count": 152,
   "id": "4f1c2920",
   "metadata": {
    "scrolled": true
   },
   "outputs": [
    {
     "data": {
      "text/html": [
       "<div>\n",
       "<style scoped>\n",
       "    .dataframe tbody tr th:only-of-type {\n",
       "        vertical-align: middle;\n",
       "    }\n",
       "\n",
       "    .dataframe tbody tr th {\n",
       "        vertical-align: top;\n",
       "    }\n",
       "\n",
       "    .dataframe thead th {\n",
       "        text-align: right;\n",
       "    }\n",
       "</style>\n",
       "<table border=\"1\" class=\"dataframe\">\n",
       "  <thead>\n",
       "    <tr style=\"text-align: right;\">\n",
       "      <th></th>\n",
       "      <th>age</th>\n",
       "      <th>scholarship</th>\n",
       "      <th>sms_received</th>\n",
       "    </tr>\n",
       "  </thead>\n",
       "  <tbody>\n",
       "    <tr>\n",
       "      <th>count</th>\n",
       "      <td>110527.000000</td>\n",
       "      <td>110527.000000</td>\n",
       "      <td>110527.000000</td>\n",
       "    </tr>\n",
       "    <tr>\n",
       "      <th>mean</th>\n",
       "      <td>37.088874</td>\n",
       "      <td>0.098266</td>\n",
       "      <td>0.321026</td>\n",
       "    </tr>\n",
       "    <tr>\n",
       "      <th>std</th>\n",
       "      <td>23.110205</td>\n",
       "      <td>0.297675</td>\n",
       "      <td>0.466873</td>\n",
       "    </tr>\n",
       "    <tr>\n",
       "      <th>min</th>\n",
       "      <td>-1.000000</td>\n",
       "      <td>0.000000</td>\n",
       "      <td>0.000000</td>\n",
       "    </tr>\n",
       "    <tr>\n",
       "      <th>25%</th>\n",
       "      <td>18.000000</td>\n",
       "      <td>0.000000</td>\n",
       "      <td>0.000000</td>\n",
       "    </tr>\n",
       "    <tr>\n",
       "      <th>50%</th>\n",
       "      <td>37.000000</td>\n",
       "      <td>0.000000</td>\n",
       "      <td>0.000000</td>\n",
       "    </tr>\n",
       "    <tr>\n",
       "      <th>75%</th>\n",
       "      <td>55.000000</td>\n",
       "      <td>0.000000</td>\n",
       "      <td>1.000000</td>\n",
       "    </tr>\n",
       "    <tr>\n",
       "      <th>max</th>\n",
       "      <td>115.000000</td>\n",
       "      <td>1.000000</td>\n",
       "      <td>1.000000</td>\n",
       "    </tr>\n",
       "  </tbody>\n",
       "</table>\n",
       "</div>"
      ],
      "text/plain": [
       "                 age    scholarship   sms_received\n",
       "count  110527.000000  110527.000000  110527.000000\n",
       "mean       37.088874       0.098266       0.321026\n",
       "std        23.110205       0.297675       0.466873\n",
       "min        -1.000000       0.000000       0.000000\n",
       "25%        18.000000       0.000000       0.000000\n",
       "50%        37.000000       0.000000       0.000000\n",
       "75%        55.000000       0.000000       1.000000\n",
       "max       115.000000       1.000000       1.000000"
      ]
     },
     "execution_count": 152,
     "metadata": {},
     "output_type": "execute_result"
    }
   ],
   "source": [
    "(df.describe())"
   ]
  },
  {
   "cell_type": "markdown",
   "id": "378eddf2",
   "metadata": {},
   "source": [
    "The mean age of patients is 37 years, maximum age is 115 years, and minimum age is -1."
   ]
  },
  {
   "cell_type": "markdown",
   "id": "df93d9b6",
   "metadata": {},
   "source": [
    "Since age cannot be a negative figure, it’s necessary to check how many entries having age as -1 are present."
   ]
  },
  {
   "cell_type": "code",
   "execution_count": 153,
   "id": "05878554",
   "metadata": {},
   "outputs": [
    {
     "data": {
      "text/plain": [
       "False    110526\n",
       "True          1\n",
       "Name: age, dtype: int64"
      ]
     },
     "execution_count": 153,
     "metadata": {},
     "output_type": "execute_result"
    }
   ],
   "source": [
    "# check number of rows having age as -1\n",
    "(df['age'] == -1).value_counts()"
   ]
  },
  {
   "cell_type": "markdown",
   "id": "85e26d56",
   "metadata": {},
   "source": [
    "Just one out of a total of 110, 527 entries has age as -1. Dropping this row won't have any severe effect. Hence, this study considers dropping the row with the negative age entry as the most logical thing to do."
   ]
  },
  {
   "cell_type": "code",
   "execution_count": 154,
   "id": "e6e516e4",
   "metadata": {},
   "outputs": [],
   "source": [
    "# exclude any negative age\n",
    "df = df[df.age > -1]"
   ]
  },
  {
   "cell_type": "markdown",
   "id": "26a01f69",
   "metadata": {},
   "source": [
    "#### What is the new minimum age?"
   ]
  },
  {
   "cell_type": "code",
   "execution_count": 155,
   "id": "87519128",
   "metadata": {},
   "outputs": [
    {
     "data": {
      "text/plain": [
       "0"
      ]
     },
     "execution_count": 155,
     "metadata": {},
     "output_type": "execute_result"
    }
   ],
   "source": [
    "df['age'].min()"
   ]
  },
  {
   "cell_type": "markdown",
   "id": "cf695b5f",
   "metadata": {},
   "source": [
    "#### How many entries have ages as zero (0)?"
   ]
  },
  {
   "cell_type": "code",
   "execution_count": 156,
   "id": "6508ba7c",
   "metadata": {},
   "outputs": [
    {
     "data": {
      "text/plain": [
       "False    106987\n",
       "True       3539\n",
       "Name: age, dtype: int64"
      ]
     },
     "execution_count": 156,
     "metadata": {},
     "output_type": "execute_result"
    }
   ],
   "source": [
    "(df['age'] == 0).value_counts()"
   ]
  },
  {
   "cell_type": "markdown",
   "id": "d19d7089",
   "metadata": {},
   "source": [
    "3,539 out of 110, 527 entries have zero (0) as age, and this is considered significant in this study. Hence, this study considers patients with zero (0) year as infants."
   ]
  },
  {
   "cell_type": "markdown",
   "id": "4f2af346",
   "metadata": {},
   "source": [
    "<a id='eda'></a>\n",
    "## Exploratory Data Analysis\n",
    "\n",
    "\n",
    "\n",
    "\n",
    "### Research Question 1: What is the general response of patients to scheduled appointments?"
   ]
  },
  {
   "cell_type": "code",
   "execution_count": 157,
   "id": "06995d80",
   "metadata": {},
   "outputs": [
    {
     "data": {
      "text/plain": [
       "No     88207\n",
       "Yes    22319\n",
       "Name: absent, dtype: int64"
      ]
     },
     "execution_count": 157,
     "metadata": {},
     "output_type": "execute_result"
    }
   ],
   "source": [
    "# general response count \n",
    "response_count = (df['absent']).value_counts()\n",
    "response_count"
   ]
  },
  {
   "cell_type": "code",
   "execution_count": 158,
   "id": "7790184f",
   "metadata": {},
   "outputs": [
    {
     "data": {
      "image/png": "[encoded data removed]",
      "text/plain": [
       "<Figure size 360x360 with 1 Axes>"
      ]
     },
     "metadata": {},
     "output_type": "display_data"
    }
   ],
   "source": [
    "fig, ax = plt.subplots(figsize = (5, 5))\n",
    "# Capture each of the return elements.\n",
    "patches, texts, pcts = ax.pie(\n",
    "    response_count, labels = ['Showed Up', 'Missed'], autopct = '%.1f%%',\n",
    "    wedgeprops = {'linewidth': 2.0, 'edgecolor': 'white'},\n",
    "    textprops = {'size': 'large'},\n",
    "    startangle = 90)\n",
    "# For each wedge, set the corresponding text label color to the wedge's\n",
    "# face color.\n",
    "for i, patch in enumerate(patches):\n",
    "  texts[i].set_color(patch.get_facecolor())\n",
    "plt.setp(pcts, color = 'white')\n",
    "plt.setp(texts, fontweight = 600)\n",
    "ax.set_title('General Response of Patients', fontsize = 14, weight = 'bold')\n",
    "plt.tight_layout()"
   ]
  },
  {
   "cell_type": "markdown",
   "id": "a4d74bd3",
   "metadata": {},
   "source": [
    "20% of patients do not show up for their scheduled appointments. This is a significant portion that is examined by exploring the subsequent characteristics provided in the database, and see how they affect a patient's response to schedules."
   ]
  },
  {
   "cell_type": "markdown",
   "id": "cc7639f7",
   "metadata": {},
   "source": [
    "Each given characteristic will be grouped by the \"absent\" column and then represented pictorially. A function is relevant here to avoid repetitions. "
   ]
  },
  {
   "cell_type": "code",
   "execution_count": 159,
   "id": "ec6e1db9",
   "metadata": {},
   "outputs": [],
   "source": [
    "def pic_rep(plot_kind, df, title, xlabel, ylabel, x, deg, order = None):\n",
    "    \"\"\"\n",
    "    This function plots a bar chart.\n",
    "    \n",
    "    Parameters:\n",
    "        plot_kind (string): kind of plot\n",
    "        df: The DataFrame to be plotted.\n",
    "        title (string): Title of the plot.\n",
    "        xlabel (string): x-axis label.\n",
    "        ylabel (string): y-axis label.\n",
    "        x: logarithmic scale (True or False)\n",
    "        deg (int): degree of rotation\n",
    "        \n",
    "    \"\"\"\n",
    "    g = df.plot(figsize = (11, 5), kind = plot_kind, log = x)\n",
    "    # ticks angle of rotation\n",
    "    plt.xticks(rotation = deg)\n",
    "    # add x label and format it\n",
    "    plt.xlabel(xlabel, size = 12, weight = 'bold')\n",
    "    # add y label and format it\n",
    "    plt.ylabel(ylabel, size = 12, weight = 'bold')\n",
    "    # add title and format it \n",
    "    plt.title(title, size = 14, weight = 'bold')\n",
    "    # format legend\n",
    "    plt.legend([\"Showed Up\", \"Absent\"]);"
   ]
  },
  {
   "cell_type": "code",
   "execution_count": 160,
   "id": "d59eef66",
   "metadata": {},
   "outputs": [],
   "source": [
    "def frame(x, col_name):\n",
    "    \"\"\"\n",
    "    This function groups other columns with respect to the 'absent' column.\n",
    "    \n",
    "    Parameters:\n",
    "        x: The DataFrame to be grouped.\n",
    "        col_name (string): column name of interest.\n",
    "        \n",
    "    Returns:\n",
    "        group_by\n",
    "    \"\"\"\n",
    "    group_by = (x.groupby(col_name)['absent'].value_counts()).unstack()\n",
    "    return group_by\n",
    "    "
   ]
  },
  {
   "cell_type": "code",
   "execution_count": 161,
   "id": "6c26f9e7",
   "metadata": {},
   "outputs": [],
   "source": [
    "def perc(x, col_name):\n",
    "    \"\"\"\n",
    "    This function groups other columns by percentage with respect to the 'absent' column.\n",
    "    \n",
    "    Parameters:\n",
    "        x: The DataFrame to be grouped.\n",
    "        col_name (string): column name of interest.\n",
    "        \n",
    "    Returns:\n",
    "        percentage\n",
    "    \"\"\"\n",
    "    percentage = (x.groupby(col_name)['absent'].value_counts(normalize=True).mul(100).round(2)).unstack()\n",
    "    return percentage"
   ]
  },
  {
   "cell_type": "markdown",
   "id": "d1e76eb6",
   "metadata": {},
   "source": [
    "### Research Question 2: Does gender affect response to scheduled appointment?"
   ]
  },
  {
   "cell_type": "code",
   "execution_count": 162,
   "id": "8bd0832d",
   "metadata": {},
   "outputs": [
    {
     "data": {
      "text/html": [
       "<div>\n",
       "<style scoped>\n",
       "    .dataframe tbody tr th:only-of-type {\n",
       "        vertical-align: middle;\n",
       "    }\n",
       "\n",
       "    .dataframe tbody tr th {\n",
       "        vertical-align: top;\n",
       "    }\n",
       "\n",
       "    .dataframe thead th {\n",
       "        text-align: right;\n",
       "    }\n",
       "</style>\n",
       "<table border=\"1\" class=\"dataframe\">\n",
       "  <thead>\n",
       "    <tr style=\"text-align: right;\">\n",
       "      <th>absent</th>\n",
       "      <th>No</th>\n",
       "      <th>Yes</th>\n",
       "    </tr>\n",
       "    <tr>\n",
       "      <th>gender</th>\n",
       "      <th></th>\n",
       "      <th></th>\n",
       "    </tr>\n",
       "  </thead>\n",
       "  <tbody>\n",
       "    <tr>\n",
       "      <th>F</th>\n",
       "      <td>57245</td>\n",
       "      <td>14594</td>\n",
       "    </tr>\n",
       "    <tr>\n",
       "      <th>M</th>\n",
       "      <td>30962</td>\n",
       "      <td>7725</td>\n",
       "    </tr>\n",
       "  </tbody>\n",
       "</table>\n",
       "</div>"
      ],
      "text/plain": [
       "absent     No    Yes\n",
       "gender              \n",
       "F       57245  14594\n",
       "M       30962   7725"
      ]
     },
     "execution_count": 162,
     "metadata": {},
     "output_type": "execute_result"
    }
   ],
   "source": [
    "# group response by gender\n",
    "gender_response = frame(df, 'gender')\n",
    "gender_response"
   ]
  },
  {
   "cell_type": "code",
   "execution_count": 163,
   "id": "8eb7e820",
   "metadata": {
    "scrolled": true
   },
   "outputs": [
    {
     "data": {
      "image/png": "[encoded data removed]",
      "text/plain": [
       "<Figure size 792x360 with 1 Axes>"
      ]
     },
     "metadata": {},
     "output_type": "display_data"
    }
   ],
   "source": [
    "# make a bar plot of the gender response\n",
    "pic_rep('bar', gender_response, 'Response by Gender', 'Gender', 'Population of Patients', False, 360);"
   ]
  },
  {
   "cell_type": "markdown",
   "id": "bf0c8fa8",
   "metadata": {},
   "source": [
    "At first glance, it seems more females show up for appointments than males. Actually, this isn't a fair comparison because there are generally more females than males. However, an balanced comparison would be to ask, \"Out of a given number of scheduled females/males, how many show up or miss their appointments?\" \n",
    "In essence, taking the percentage attendance by gender is a more balanced comparison."
   ]
  },
  {
   "cell_type": "code",
   "execution_count": 164,
   "id": "35b15477",
   "metadata": {},
   "outputs": [
    {
     "data": {
      "text/html": [
       "<div>\n",
       "<style scoped>\n",
       "    .dataframe tbody tr th:only-of-type {\n",
       "        vertical-align: middle;\n",
       "    }\n",
       "\n",
       "    .dataframe tbody tr th {\n",
       "        vertical-align: top;\n",
       "    }\n",
       "\n",
       "    .dataframe thead th {\n",
       "        text-align: right;\n",
       "    }\n",
       "</style>\n",
       "<table border=\"1\" class=\"dataframe\">\n",
       "  <thead>\n",
       "    <tr style=\"text-align: right;\">\n",
       "      <th>absent</th>\n",
       "      <th>No</th>\n",
       "      <th>Yes</th>\n",
       "    </tr>\n",
       "    <tr>\n",
       "      <th>gender</th>\n",
       "      <th></th>\n",
       "      <th></th>\n",
       "    </tr>\n",
       "  </thead>\n",
       "  <tbody>\n",
       "    <tr>\n",
       "      <th>F</th>\n",
       "      <td>79.69</td>\n",
       "      <td>20.31</td>\n",
       "    </tr>\n",
       "    <tr>\n",
       "      <th>M</th>\n",
       "      <td>80.03</td>\n",
       "      <td>19.97</td>\n",
       "    </tr>\n",
       "  </tbody>\n",
       "</table>\n",
       "</div>"
      ],
      "text/plain": [
       "absent     No    Yes\n",
       "gender              \n",
       "F       79.69  20.31\n",
       "M       80.03  19.97"
      ]
     },
     "execution_count": 164,
     "metadata": {},
     "output_type": "execute_result"
    }
   ],
   "source": [
    "# find the percentage response by gender\n",
    "gender_response_percentage = perc(df, 'gender')\n",
    "gender_response_percentage"
   ]
  },
  {
   "cell_type": "code",
   "execution_count": 165,
   "id": "1b854308",
   "metadata": {},
   "outputs": [
    {
     "data": {
      "image/png": "[encoded data removed]",
      "text/plain": [
       "<Figure size 792x360 with 1 Axes>"
      ]
     },
     "metadata": {},
     "output_type": "display_data"
    }
   ],
   "source": [
    "# make a plot of the percentage response by gender\n",
    "pic_rep('bar', gender_response, 'Percentage Response by Gender', 'Gender', 'Percentage Population', False, 360);"
   ]
  },
  {
   "cell_type": "markdown",
   "id": "ccd69be3",
   "metadata": {},
   "source": [
    "The percentage response by gender shows that both males and females have equal likelihood of missing or showing up for appointments."
   ]
  },
  {
   "cell_type": "markdown",
   "id": "6158bb65",
   "metadata": {},
   "source": [
    "### Research Question 3: Do specific days of the week affect response to schedules?"
   ]
  },
  {
   "cell_type": "markdown",
   "id": "244794a6",
   "metadata": {},
   "source": [
    "With respect to the \"appointment_day\" entries, let’s create two new columns to actually view the days and months of appointments."
   ]
  },
  {
   "cell_type": "code",
   "execution_count": 166,
   "id": "ad1a6fc8",
   "metadata": {},
   "outputs": [],
   "source": [
    "df['day_entry'] = df.appointment_day.dt.day_name()"
   ]
  },
  {
   "cell_type": "code",
   "execution_count": 167,
   "id": "17228aca",
   "metadata": {},
   "outputs": [],
   "source": [
    "df['month_entry'] = df.appointment_day.dt.month_name()"
   ]
  },
  {
   "cell_type": "markdown",
   "id": "d60665ac",
   "metadata": {},
   "source": [
    "Confirming if the columns have actually been created."
   ]
  },
  {
   "cell_type": "code",
   "execution_count": 168,
   "id": "e8d7b7e9",
   "metadata": {},
   "outputs": [
    {
     "data": {
      "text/html": [
       "<div>\n",
       "<style scoped>\n",
       "    .dataframe tbody tr th:only-of-type {\n",
       "        vertical-align: middle;\n",
       "    }\n",
       "\n",
       "    .dataframe tbody tr th {\n",
       "        vertical-align: top;\n",
       "    }\n",
       "\n",
       "    .dataframe thead th {\n",
       "        text-align: right;\n",
       "    }\n",
       "</style>\n",
       "<table border=\"1\" class=\"dataframe\">\n",
       "  <thead>\n",
       "    <tr style=\"text-align: right;\">\n",
       "      <th></th>\n",
       "      <th>gender</th>\n",
       "      <th>scheduled_day</th>\n",
       "      <th>appointment_day</th>\n",
       "      <th>age</th>\n",
       "      <th>neighbourhood</th>\n",
       "      <th>scholarship</th>\n",
       "      <th>sms_received</th>\n",
       "      <th>absent</th>\n",
       "      <th>day_entry</th>\n",
       "      <th>month_entry</th>\n",
       "    </tr>\n",
       "  </thead>\n",
       "  <tbody>\n",
       "    <tr>\n",
       "      <th>0</th>\n",
       "      <td>F</td>\n",
       "      <td>2016-04-29 18:38:08+00:00</td>\n",
       "      <td>2016-04-29 00:00:00+00:00</td>\n",
       "      <td>62</td>\n",
       "      <td>JARDIM DA PENHA</td>\n",
       "      <td>0</td>\n",
       "      <td>0</td>\n",
       "      <td>No</td>\n",
       "      <td>Friday</td>\n",
       "      <td>April</td>\n",
       "    </tr>\n",
       "  </tbody>\n",
       "</table>\n",
       "</div>"
      ],
      "text/plain": [
       "  gender             scheduled_day           appointment_day  age  \\\n",
       "0      F 2016-04-29 18:38:08+00:00 2016-04-29 00:00:00+00:00   62   \n",
       "\n",
       "     neighbourhood  scholarship  sms_received absent day_entry month_entry  \n",
       "0  JARDIM DA PENHA            0             0     No    Friday       April  "
      ]
     },
     "execution_count": 168,
     "metadata": {},
     "output_type": "execute_result"
    }
   ],
   "source": [
    "df.head(1)"
   ]
  },
  {
   "cell_type": "markdown",
   "id": "e8a9b567",
   "metadata": {},
   "source": [
    "#### Which days have the highest and least number of appointments?"
   ]
  },
  {
   "cell_type": "code",
   "execution_count": 169,
   "id": "f65f7dac",
   "metadata": {},
   "outputs": [],
   "source": [
    "def bar_plot(df, var_count, var_name, x_label, y_label, title, log, hue, color, order = None):\n",
    "    \"\"\"\n",
    "    This function makes a bar plot of a specified variable.\n",
    "    \n",
    "    Parameters:\n",
    "        df: DataFrame of interest\n",
    "        var_count (String): Variable count\n",
    "        order (String): Variable order\n",
    "        var_name (string): Variable to be plotted\n",
    "        x_label (String): Horizontal axis label\n",
    "        y_label (String): Vertical axis label.\n",
    "        title (String): Plot title.  \n",
    "        log(bool): Logarithmic scale\n",
    "        hue(String): hue\n",
    "        color: hue color\n",
    "    \"\"\"\n",
    "    # order the unique values by count\n",
    "    var_count = df[var_name].value_counts()\n",
    "\n",
    "    # adjust figure size\n",
    "    plt.figure(figsize = [11, 5])\n",
    "    # set base color\n",
    "    base_color = sb.color_palette()[0]\n",
    "    # make a bar plot of the variable\n",
    "    sb.countplot(data = df, x = var_name, color = color, log = log, hue = hue, order = order)\n",
    "    # add x label and format it\n",
    "    plt.xlabel(x_label, size = 12, weight = 'bold')\n",
    "    # add y label and format it\n",
    "    plt.ylabel(y_label, size = 12, weight = 'bold')\n",
    "    # add title and format it \n",
    "    plt.title(title, size = 14, weight = 'bold')\n",
    "    # format legend\n",
    "    plt.legend([\"Showed Up\", \"Absent\"], loc = 'upper right');"
   ]
  },
  {
   "cell_type": "code",
   "execution_count": 170,
   "id": "a0f6822e",
   "metadata": {
    "scrolled": true
   },
   "outputs": [
    {
     "data": {
      "image/png": "[encoded data removed]",
      "text/plain": [
       "<Figure size 792x360 with 1 Axes>"
      ]
     },
     "metadata": {},
     "output_type": "display_data"
    }
   ],
   "source": [
    "# set horiontal axis label order\n",
    "day_order = ['Monday', 'Tuesday', 'Wednesday', 'Thursday', 'Friday', 'Saturday', 'Sunday']\n",
    "# make a bar plot of the start day variable\n",
    "bar_plot(df, 'day_count', 'day_entry', 'Schedule Day', 'Population of Patients', 'Response by Days', \n",
    "         True, 'absent', None, order = day_order);"
   ]
  },
  {
   "cell_type": "markdown",
   "id": "12a2fafe",
   "metadata": {},
   "source": [
    "The daily response chart shows that only six distinct days have schedules. Most patients show up on Wednesdays, Tuesdays and Mondays, in order of decreasing magnitude, while Saturdays have the least number of schedules.\n",
    "Although the days with most and least schedules have been identified, this still isn't enough to determine response. It could be that only one person gets scheduled on Saturdays and always shows up.\n",
    "Hence, the need to check the daily percentage response. \n"
   ]
  },
  {
   "cell_type": "code",
   "execution_count": 171,
   "id": "b64f4b35",
   "metadata": {},
   "outputs": [
    {
     "data": {
      "text/html": [
       "<div>\n",
       "<style scoped>\n",
       "    .dataframe tbody tr th:only-of-type {\n",
       "        vertical-align: middle;\n",
       "    }\n",
       "\n",
       "    .dataframe tbody tr th {\n",
       "        vertical-align: top;\n",
       "    }\n",
       "\n",
       "    .dataframe thead th {\n",
       "        text-align: right;\n",
       "    }\n",
       "</style>\n",
       "<table border=\"1\" class=\"dataframe\">\n",
       "  <thead>\n",
       "    <tr style=\"text-align: right;\">\n",
       "      <th>absent</th>\n",
       "      <th>No</th>\n",
       "      <th>Yes</th>\n",
       "    </tr>\n",
       "    <tr>\n",
       "      <th>day_entry</th>\n",
       "      <th></th>\n",
       "      <th></th>\n",
       "    </tr>\n",
       "  </thead>\n",
       "  <tbody>\n",
       "    <tr>\n",
       "      <th>Friday</th>\n",
       "      <td>78.77</td>\n",
       "      <td>21.23</td>\n",
       "    </tr>\n",
       "    <tr>\n",
       "      <th>Monday</th>\n",
       "      <td>79.35</td>\n",
       "      <td>20.65</td>\n",
       "    </tr>\n",
       "    <tr>\n",
       "      <th>Saturday</th>\n",
       "      <td>76.92</td>\n",
       "      <td>23.08</td>\n",
       "    </tr>\n",
       "    <tr>\n",
       "      <th>Thursday</th>\n",
       "      <td>80.65</td>\n",
       "      <td>19.35</td>\n",
       "    </tr>\n",
       "    <tr>\n",
       "      <th>Tuesday</th>\n",
       "      <td>79.91</td>\n",
       "      <td>20.09</td>\n",
       "    </tr>\n",
       "    <tr>\n",
       "      <th>Wednesday</th>\n",
       "      <td>80.31</td>\n",
       "      <td>19.69</td>\n",
       "    </tr>\n",
       "  </tbody>\n",
       "</table>\n",
       "</div>"
      ],
      "text/plain": [
       "absent        No    Yes\n",
       "day_entry              \n",
       "Friday     78.77  21.23\n",
       "Monday     79.35  20.65\n",
       "Saturday   76.92  23.08\n",
       "Thursday   80.65  19.35\n",
       "Tuesday    79.91  20.09\n",
       "Wednesday  80.31  19.69"
      ]
     },
     "execution_count": 171,
     "metadata": {},
     "output_type": "execute_result"
    }
   ],
   "source": [
    "# find the percentage response by days\n",
    "daily_response_percentage = perc(df, 'day_entry')\n",
    "daily_response_percentage"
   ]
  },
  {
   "cell_type": "code",
   "execution_count": 172,
   "id": "4af27065",
   "metadata": {},
   "outputs": [],
   "source": [
    "# reorder the index by days of the week\n",
    "daily_percentage = daily_response_percentage.reindex(['Monday', 'Tuesday', 'Wednesday', 'Thursday', 'Friday', 'Saturday', 'Sunday'])"
   ]
  },
  {
   "cell_type": "code",
   "execution_count": 173,
   "id": "63b261fc",
   "metadata": {},
   "outputs": [
    {
     "data": {
      "image/png": "[encoded data removed]",
      "text/plain": [
       "<Figure size 792x360 with 1 Axes>"
      ]
     },
     "metadata": {},
     "output_type": "display_data"
    }
   ],
   "source": [
    "# make a plot of the percentage response by days\n",
    "pic_rep('bar', daily_percentage, 'Daily Response Percentage', 'Days', 'Percentage Population', False, None);"
   ]
  },
  {
   "cell_type": "markdown",
   "id": "850ddcae",
   "metadata": {},
   "source": [
    "The daily response percentage shows that while other days have roughly equal chances of patients showing up, Saturdays have the least chances. "
   ]
  },
  {
   "cell_type": "markdown",
   "id": "7e8880e4",
   "metadata": {},
   "source": [
    "### Research Question 4: What is the age distribution of patients?"
   ]
  },
  {
   "cell_type": "code",
   "execution_count": 174,
   "id": "4fd7e44c",
   "metadata": {},
   "outputs": [
    {
     "data": {
      "image/png": "[encoded data removed]",
      "text/plain": [
       "<Figure size 432x288 with 1 Axes>"
      ]
     },
     "metadata": {},
     "output_type": "display_data"
    }
   ],
   "source": [
    "# set the bin edges\n",
    "bin_edges = np.arange(0, df['age'].max() +2, 2)\n",
    "# set the horizontal axis marks\n",
    "ticks = [0, 5, 10, 15, 20, 25, 30, 35, 40, 45, 50, 55, 60, \n",
    "         65, 70, 75, 80, 85, 90, 95, 100]\n",
    "# make a histogram plot of the age variable\n",
    "plt.hist(data = df, x = 'age', bins = bin_edges)\n",
    "# format the horizontal axis label to override the default standard forms for log scales\n",
    "labels = ['{}'.format(v) for v in ticks]\n",
    "plt.xticks(ticks, labels)\n",
    "# add x label and format it\n",
    "plt.xlabel('Age (years)', size = 12, weight = 'bold')\n",
    "# add y label and format it\n",
    "plt.ylabel('Population of Patients', size = 12, weight = 'bold')\n",
    "# add title and format it.\n",
    "plt.title('Age Distribution of Patients', size = 14, weight = 'bold')\n",
    "# set horizontal axis limit\n",
    "plt.xlim([0, 100]);"
   ]
  },
  {
   "cell_type": "markdown",
   "id": "515bc19b",
   "metadata": {},
   "source": [
    "The response by age chart shows that most appointments are scheduled by people aged 65 years and below, with 0 year being the most scheduled.\n",
    "It is quite logical for infants to have the highest number of schedules."
   ]
  },
  {
   "cell_type": "markdown",
   "id": "0ad17765",
   "metadata": {},
   "source": [
    "### Research Question 5: Which neighbourhoods have the most and least schedules?"
   ]
  },
  {
   "cell_type": "code",
   "execution_count": 175,
   "id": "060a93a7",
   "metadata": {},
   "outputs": [
    {
     "data": {
      "image/png": "[encoded data removed]",
      "text/plain": [
       "<Figure size 576x1080 with 1 Axes>"
      ]
     },
     "metadata": {},
     "output_type": "display_data"
    }
   ],
   "source": [
    "# order the unique values by count\n",
    "var_count = df['neighbourhood'].value_counts()\n",
    "    \n",
    "plt.figure(figsize = [8, 15])\n",
    "# make a bar plot of the variable\n",
    "sb.countplot(data = df, y = 'neighbourhood', order = var_count.index, color = base_color)\n",
    "# add x label\n",
    "plt.xlabel('Population of Patients', weight = 'bold')\n",
    "# override the default y label\n",
    "plt.ylabel(None)\n",
    "# add title and format it\n",
    "plt.title('Schedule Distribution by Neighbourhood', size = 14, weight = 'bold');"
   ]
  },
  {
   "cell_type": "markdown",
   "id": "9a6e6a2f",
   "metadata": {},
   "source": [
    "Jardim Camburi has the highest number of scedules, while Parque Industrial has the least."
   ]
  },
  {
   "cell_type": "markdown",
   "id": "40cba128",
   "metadata": {},
   "source": [
    "### Research Question 6: Does scholarship encourage response?"
   ]
  },
  {
   "cell_type": "code",
   "execution_count": 176,
   "id": "da9848d2",
   "metadata": {},
   "outputs": [
    {
     "data": {
      "text/html": [
       "<div>\n",
       "<style scoped>\n",
       "    .dataframe tbody tr th:only-of-type {\n",
       "        vertical-align: middle;\n",
       "    }\n",
       "\n",
       "    .dataframe tbody tr th {\n",
       "        vertical-align: top;\n",
       "    }\n",
       "\n",
       "    .dataframe thead th {\n",
       "        text-align: right;\n",
       "    }\n",
       "</style>\n",
       "<table border=\"1\" class=\"dataframe\">\n",
       "  <thead>\n",
       "    <tr style=\"text-align: right;\">\n",
       "      <th>absent</th>\n",
       "      <th>No</th>\n",
       "      <th>Yes</th>\n",
       "    </tr>\n",
       "    <tr>\n",
       "      <th>scholarship</th>\n",
       "      <th></th>\n",
       "      <th></th>\n",
       "    </tr>\n",
       "  </thead>\n",
       "  <tbody>\n",
       "    <tr>\n",
       "      <th>0</th>\n",
       "      <td>79924</td>\n",
       "      <td>19741</td>\n",
       "    </tr>\n",
       "    <tr>\n",
       "      <th>1</th>\n",
       "      <td>8283</td>\n",
       "      <td>2578</td>\n",
       "    </tr>\n",
       "  </tbody>\n",
       "</table>\n",
       "</div>"
      ],
      "text/plain": [
       "absent          No    Yes\n",
       "scholarship              \n",
       "0            79924  19741\n",
       "1             8283   2578"
      ]
     },
     "execution_count": 176,
     "metadata": {},
     "output_type": "execute_result"
    }
   ],
   "source": [
    "scholarship_response = frame(df, 'scholarship')\n",
    "scholarship_response"
   ]
  },
  {
   "cell_type": "code",
   "execution_count": 177,
   "id": "bf3d07d8",
   "metadata": {},
   "outputs": [
    {
     "data": {
      "image/png": "[encoded data removed]",
      "text/plain": [
       "<Figure size 792x360 with 1 Axes>"
      ]
     },
     "metadata": {},
     "output_type": "display_data"
    }
   ],
   "source": [
    "pic_rep('bar', scholarship_response, 'Response by Scholarship', 'Scholarship', 'Population of Patients', False, 360);"
   ]
  },
  {
   "cell_type": "markdown",
   "id": "9f197f92",
   "metadata": {},
   "source": [
    "There's need to further compute the likelihood of patients being placed on scholarship showing up for appointments, compared to those who are not on scholarship. "
   ]
  },
  {
   "cell_type": "code",
   "execution_count": 178,
   "id": "224c00a1",
   "metadata": {},
   "outputs": [
    {
     "data": {
      "text/html": [
       "<div>\n",
       "<style scoped>\n",
       "    .dataframe tbody tr th:only-of-type {\n",
       "        vertical-align: middle;\n",
       "    }\n",
       "\n",
       "    .dataframe tbody tr th {\n",
       "        vertical-align: top;\n",
       "    }\n",
       "\n",
       "    .dataframe thead th {\n",
       "        text-align: right;\n",
       "    }\n",
       "</style>\n",
       "<table border=\"1\" class=\"dataframe\">\n",
       "  <thead>\n",
       "    <tr style=\"text-align: right;\">\n",
       "      <th>absent</th>\n",
       "      <th>No</th>\n",
       "      <th>Yes</th>\n",
       "    </tr>\n",
       "    <tr>\n",
       "      <th>scholarship</th>\n",
       "      <th></th>\n",
       "      <th></th>\n",
       "    </tr>\n",
       "  </thead>\n",
       "  <tbody>\n",
       "    <tr>\n",
       "      <th>0</th>\n",
       "      <td>80.19</td>\n",
       "      <td>19.81</td>\n",
       "    </tr>\n",
       "    <tr>\n",
       "      <th>1</th>\n",
       "      <td>76.26</td>\n",
       "      <td>23.74</td>\n",
       "    </tr>\n",
       "  </tbody>\n",
       "</table>\n",
       "</div>"
      ],
      "text/plain": [
       "absent          No    Yes\n",
       "scholarship              \n",
       "0            80.19  19.81\n",
       "1            76.26  23.74"
      ]
     },
     "execution_count": 178,
     "metadata": {},
     "output_type": "execute_result"
    }
   ],
   "source": [
    "scholarship_response_perc = perc(df, 'scholarship')\n",
    "scholarship_response_perc"
   ]
  },
  {
   "cell_type": "code",
   "execution_count": 179,
   "id": "f19d0c97",
   "metadata": {},
   "outputs": [
    {
     "data": {
      "image/png": "[encoded data removed]",
      "text/plain": [
       "<Figure size 792x360 with 1 Axes>"
      ]
     },
     "metadata": {},
     "output_type": "display_data"
    }
   ],
   "source": [
    "pic_rep('bar', scholarship_response_perc, 'Response Percentage by Scholarship', 'Scholarship', 'Percentage', False, 360);"
   ]
  },
  {
   "cell_type": "markdown",
   "id": "87e016be",
   "metadata": {},
   "source": [
    "Scholarship doesn't seem to encourage showing up for appointments. In fact, there is a higher likelihood for a patient placed on scholarship not to show up for appointment."
   ]
  },
  {
   "cell_type": "markdown",
   "id": "17f7a6ea",
   "metadata": {},
   "source": [
    "### Research Question 7: How does SMS notification encourage patients to show up for appointments?"
   ]
  },
  {
   "cell_type": "code",
   "execution_count": 180,
   "id": "aeac5eb9",
   "metadata": {},
   "outputs": [
    {
     "data": {
      "text/html": [
       "<div>\n",
       "<style scoped>\n",
       "    .dataframe tbody tr th:only-of-type {\n",
       "        vertical-align: middle;\n",
       "    }\n",
       "\n",
       "    .dataframe tbody tr th {\n",
       "        vertical-align: top;\n",
       "    }\n",
       "\n",
       "    .dataframe thead th {\n",
       "        text-align: right;\n",
       "    }\n",
       "</style>\n",
       "<table border=\"1\" class=\"dataframe\">\n",
       "  <thead>\n",
       "    <tr style=\"text-align: right;\">\n",
       "      <th>absent</th>\n",
       "      <th>No</th>\n",
       "      <th>Yes</th>\n",
       "    </tr>\n",
       "    <tr>\n",
       "      <th>sms_received</th>\n",
       "      <th></th>\n",
       "      <th></th>\n",
       "    </tr>\n",
       "  </thead>\n",
       "  <tbody>\n",
       "    <tr>\n",
       "      <th>0</th>\n",
       "      <td>62509</td>\n",
       "      <td>12535</td>\n",
       "    </tr>\n",
       "    <tr>\n",
       "      <th>1</th>\n",
       "      <td>25698</td>\n",
       "      <td>9784</td>\n",
       "    </tr>\n",
       "  </tbody>\n",
       "</table>\n",
       "</div>"
      ],
      "text/plain": [
       "absent           No    Yes\n",
       "sms_received              \n",
       "0             62509  12535\n",
       "1             25698   9784"
      ]
     },
     "execution_count": 180,
     "metadata": {},
     "output_type": "execute_result"
    }
   ],
   "source": [
    "sms_received_response = frame(df, 'sms_received')\n",
    "sms_received_response"
   ]
  },
  {
   "cell_type": "code",
   "execution_count": 181,
   "id": "5c0d8f18",
   "metadata": {},
   "outputs": [
    {
     "data": {
      "image/png": "[encoded data removed]",
      "text/plain": [
       "<Figure size 792x360 with 1 Axes>"
      ]
     },
     "metadata": {},
     "output_type": "display_data"
    }
   ],
   "source": [
    "pic_rep('bar', sms_received_response, 'Response by SMS Received', 'SMS Received', 'Population of Patients', False, 360);"
   ]
  },
  {
   "cell_type": "markdown",
   "id": "ad6ce9ab",
   "metadata": {},
   "source": [
    "The sms_response chart suggests that people still show up for appointments despite not receiving SMS."
   ]
  },
  {
   "cell_type": "markdown",
   "id": "59661085",
   "metadata": {},
   "source": [
    "#### How about the likelihood of a patient showing up on receiving SMS?"
   ]
  },
  {
   "cell_type": "code",
   "execution_count": 182,
   "id": "b2b3904b",
   "metadata": {},
   "outputs": [
    {
     "data": {
      "text/html": [
       "<div>\n",
       "<style scoped>\n",
       "    .dataframe tbody tr th:only-of-type {\n",
       "        vertical-align: middle;\n",
       "    }\n",
       "\n",
       "    .dataframe tbody tr th {\n",
       "        vertical-align: top;\n",
       "    }\n",
       "\n",
       "    .dataframe thead th {\n",
       "        text-align: right;\n",
       "    }\n",
       "</style>\n",
       "<table border=\"1\" class=\"dataframe\">\n",
       "  <thead>\n",
       "    <tr style=\"text-align: right;\">\n",
       "      <th>absent</th>\n",
       "      <th>No</th>\n",
       "      <th>Yes</th>\n",
       "    </tr>\n",
       "    <tr>\n",
       "      <th>sms_received</th>\n",
       "      <th></th>\n",
       "      <th></th>\n",
       "    </tr>\n",
       "  </thead>\n",
       "  <tbody>\n",
       "    <tr>\n",
       "      <th>0</th>\n",
       "      <td>83.30</td>\n",
       "      <td>16.70</td>\n",
       "    </tr>\n",
       "    <tr>\n",
       "      <th>1</th>\n",
       "      <td>72.43</td>\n",
       "      <td>27.57</td>\n",
       "    </tr>\n",
       "  </tbody>\n",
       "</table>\n",
       "</div>"
      ],
      "text/plain": [
       "absent           No    Yes\n",
       "sms_received              \n",
       "0             83.30  16.70\n",
       "1             72.43  27.57"
      ]
     },
     "execution_count": 182,
     "metadata": {},
     "output_type": "execute_result"
    }
   ],
   "source": [
    "sms_received_perc = perc(df, 'sms_received')\n",
    "sms_received_perc"
   ]
  },
  {
   "cell_type": "code",
   "execution_count": 183,
   "id": "fba5b99b",
   "metadata": {},
   "outputs": [
    {
     "data": {
      "image/png": "[encoded data removed]",
      "text/plain": [
       "<Figure size 792x360 with 1 Axes>"
      ]
     },
     "metadata": {},
     "output_type": "display_data"
    }
   ],
   "source": [
    "pic_rep('bar', sms_received_perc, 'Response by SMS Received', 'SMS Received', 'Percentage', False, 360);"
   ]
  },
  {
   "cell_type": "markdown",
   "id": "662ddc65",
   "metadata": {},
   "source": [
    "Surprisingly, the sms_received_perc shows that on receiving SMS patients have higher likelihood of missing their appointments, compared to when they don’t receive any SMS."
   ]
  },
  {
   "cell_type": "markdown",
   "id": "6dae232d",
   "metadata": {},
   "source": [
    "<a id='conclusions'></a>\n",
    "## Conclusions\n",
    "\n",
    "\n"
   ]
  },
  {
   "cell_type": "markdown",
   "id": "94f9c8f0",
   "metadata": {},
   "source": [
    "Based on the following limitations:\n",
    "- Patients are assumed to either show up or miss appointments, irrespective of their specific medical conditions.\n",
    "- Proximity of neighbourhood is flexible for all patients.\n",
    "\n",
    "The following conclusions were drawn: \n",
    "- Gender doesn’t seem to affect response to schedules. Despite more females being scheduled for appointments than males, both males and females have equal likelihood of either showing up or missing appointments.\n",
    "-\tWeekdays have more active schedules than weekends, with Mondays, Tuesdays and Wednesdays being the busiest days, in order of increasing number of medical appointments respectively.\n",
    "- It is not clear how age affects response to appointments, as population distribution could influence prediction. However, people above 65 years of age tend to have less number of medical appointments.\n",
    "- Although Jardim Camburi has the number of medical appointments, the information provided in this database isn’t sufficient to categorically state why this is so.\n",
    "- Scholarship doesn’t seem to encourage patients showing up for appointments. In fact, a patient on scholarship has a higher likelihood of not showing up, compared to one who is not on scholarship.\n",
    "- It is surprising that patients who receive SMS tend to have a higher likelihood of missing medical appointments, compared to those who don’t receive any SMS.\n"
   ]
  },
  {
   "cell_type": "markdown",
   "id": "f1f66227",
   "metadata": {},
   "source": [
    "### References:\n",
    "- <a href='https://stackoverflow.com' target=\"_blank\">Stack Overflow</a>.\n",
    "- <a href='https://www.pythoncharts.com/matplotlib/pie-chart-matplotlib/' target=\"_blank\">Python Charts</a>."
   ]
  },
  {
   "cell_type": "code",
   "execution_count": null,
   "id": "fa62c51c",
   "metadata": {},
   "outputs": [],
   "source": []
  }
 ],
 "metadata": {
  "kernelspec": {
   "display_name": "Python [conda env:python_ds] *",
   "language": "python",
   "name": "conda-env-python_ds-py"
  },
  "language_info": {
   "codemirror_mode": {
    "name": "ipython",
    "version": 3
   },
   "file_extension": ".py",
   "mimetype": "text/x-python",
   "name": "python",
   "nbconvert_exporter": "python",
   "pygments_lexer": "ipython3",
   "version": "3.8.13"
  }
 },
 "nbformat": 4,
 "nbformat_minor": 5
}
